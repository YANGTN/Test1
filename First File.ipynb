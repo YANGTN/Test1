{
 "cells": [
  {
   "cell_type": "markdown",
   "metadata": {},
   "source": [
    "# HEADING \n",
    "## Heading\n",
    "### Heading\n",
    "\n",
    "**BOLD**\n",
    "*italic*\n",
    "\n",
    "1.listing\n",
    "2.\n",
    "\n",
    "- listing\n",
    "- listing\n",
    "\n",
    "[Markdown Cheatsheet](https://github.com/adam-p/markdown-here/wiki/Markdown-Cheatsheet)\n",
    "\n",
    "[latex cheatsheet](http://ozark.hendrix.edu/~yorgey/precalc/docs/LaTeX-cheat-sheet.pdf)\n",
    "\n",
    "\n",
    "\\[\n",
    "\\begin{pmatrix}\n",
    "4 & 5 & x + 2 \\\\\n",
    "9 & 0 & \\pi \\\\\n",
    "6 + 5i & \\sqrt{3} & -2\n",
    "\\end{pmatrix}\n",
    "\\]\n",
    "\n",
    "\n"
   ]
  },
  {
   "cell_type": "code",
   "execution_count": null,
   "metadata": {},
   "outputs": [],
   "source": [
    "x = 1\n",
    "y = 3\n",
    "\n",
    "print (x+y)\n"
   ]
  },
  {
   "cell_type": "markdown",
   "metadata": {},
   "source": [
    "# data type - int float str bool.  \n",
    "specific data type define the storage space needed\n",
    "python is dynamic type language as it will detect and assign the data type\n",
    "\n",
    "List = [ ] e.g. [1,2,3,8 ,10,12]  \n",
    "     list can be mixed of datatab\n",
    "\n",
    "shift + tab or shift + tab x2  to get more documentation / information \n",
    "\n",
    "dict = is a collection of key value pairs\n",
    "       {}\n",
    "       instead of using list \n",
    "       e.g. mylist 1 = ['student 1', 'student 2']\n",
    "            mylist 2 = [58,59]\n",
    "            \n",
    "        {'student 1': 58, 'student 2' : 59}\n",
    "        \n",
    "\"\"\"\n",
    "this is multi line string line 1\n",
    "this is multi line string line 2\n",
    "\"\"\"\n",
    "\n",
    "\"\"\" \"\"\" for multi line string\n",
    "\n",
    "\n"
   ]
  },
  {
   "cell_type": "code",
   "execution_count": 1,
   "metadata": {},
   "outputs": [
    {
     "data": {
      "text/plain": [
       "int"
      ]
     },
     "execution_count": 1,
     "metadata": {},
     "output_type": "execute_result"
    }
   ],
   "source": [
    "x = 1\n",
    "type(x)"
   ]
  },
  {
   "cell_type": "code",
   "execution_count": 2,
   "metadata": {},
   "outputs": [
    {
     "data": {
      "text/plain": [
       "float"
      ]
     },
     "execution_count": 2,
     "metadata": {},
     "output_type": "execute_result"
    }
   ],
   "source": [
    "x = 1.0\n",
    "type(x)"
   ]
  },
  {
   "cell_type": "code",
   "execution_count": null,
   "metadata": {},
   "outputs": [],
   "source": [
    "list, dict, set,  tuple"
   ]
  },
  {
   "cell_type": "code",
   "execution_count": 3,
   "metadata": {},
   "outputs": [
    {
     "data": {
      "text/plain": [
       "list"
      ]
     },
     "execution_count": 3,
     "metadata": {},
     "output_type": "execute_result"
    }
   ],
   "source": [
    "mylist = [1,2,3,8 ,10,12]\n",
    "type(mylist)"
   ]
  },
  {
   "cell_type": "code",
   "execution_count": 5,
   "metadata": {},
   "outputs": [
    {
     "name": "stdout",
     "output_type": "stream",
     "text": [
      "[0, 1, 2, 3, 4, 5, 6, 7, 8, 9]\n"
     ]
    }
   ],
   "source": [
    "x = list(range(10))\n",
    "type (x)\n",
    "print(x)"
   ]
  },
  {
   "cell_type": "code",
   "execution_count": 9,
   "metadata": {},
   "outputs": [
    {
     "data": {
      "text/plain": [
       "dict"
      ]
     },
     "execution_count": 9,
     "metadata": {},
     "output_type": "execute_result"
    }
   ],
   "source": [
    "x_dict = {'student 1' :58, 'student 2': 59}\n",
    "type(x_dict)"
   ]
  },
  {
   "cell_type": "code",
   "execution_count": 1,
   "metadata": {},
   "outputs": [],
   "source": [
    "x_list = [1,2,3,8,10,12]"
   ]
  },
  {
   "cell_type": "code",
   "execution_count": 15,
   "metadata": {},
   "outputs": [
    {
     "data": {
      "text/plain": [
       "1"
      ]
     },
     "execution_count": 15,
     "metadata": {},
     "output_type": "execute_result"
    }
   ],
   "source": [
    "x_list[0]"
   ]
  },
  {
   "cell_type": "code",
   "execution_count": 17,
   "metadata": {},
   "outputs": [
    {
     "data": {
      "text/plain": [
       "59"
      ]
     },
     "execution_count": 17,
     "metadata": {},
     "output_type": "execute_result"
    }
   ],
   "source": [
    "x_dict = {'student 1' :58, 'student 2': 59}\n",
    "x_dict['student 2']"
   ]
  },
  {
   "cell_type": "code",
   "execution_count": 33,
   "metadata": {},
   "outputs": [
    {
     "name": "stdout",
     "output_type": "stream",
     "text": [
      "4\n"
     ]
    }
   ],
   "source": [
    "import numpy as np\n",
    "test1 = np.array([4, 4, 3, 3, 2, 2, 1, 1])\n",
    "print(np.sum(test1>2))\n"
   ]
  },
  {
   "cell_type": "markdown",
   "metadata": {},
   "source": [
    "JSON format"
   ]
  },
  {
   "cell_type": "code",
   "execution_count": 3,
   "metadata": {},
   "outputs": [],
   "source": [
    "x_list.reverse()"
   ]
  },
  {
   "cell_type": "code",
   "execution_count": 9,
   "metadata": {},
   "outputs": [
    {
     "ename": "AttributeError",
     "evalue": "'NoneType' object has no attribute 'reverse'",
     "output_type": "error",
     "traceback": [
      "\u001b[0;31m---------------------------------------------------------------------------\u001b[0m",
      "\u001b[0;31mAttributeError\u001b[0m                            Traceback (most recent call last)",
      "\u001b[0;32m<ipython-input-9-540dba99a93b>\u001b[0m in \u001b[0;36m<module>\u001b[0;34m()\u001b[0m\n\u001b[0;32m----> 1\u001b[0;31m \u001b[0mx_list\u001b[0m\u001b[0;34m.\u001b[0m\u001b[0msort\u001b[0m\u001b[0;34m(\u001b[0m\u001b[0;34m)\u001b[0m\u001b[0;34m.\u001b[0m\u001b[0mreverse\u001b[0m\u001b[0;34m(\u001b[0m\u001b[0;34m)\u001b[0m\u001b[0;34m\u001b[0m\u001b[0m\n\u001b[0m",
      "\u001b[0;31mAttributeError\u001b[0m: 'NoneType' object has no attribute 'reverse'"
     ]
    }
   ],
   "source": [
    "x_list.sort().reverse()"
   ]
  },
  {
   "cell_type": "code",
   "execution_count": 4,
   "metadata": {},
   "outputs": [
    {
     "data": {
      "text/plain": [
       "[12, 10, 8, 3, 2, 1]"
      ]
     },
     "execution_count": 4,
     "metadata": {},
     "output_type": "execute_result"
    }
   ],
   "source": [
    "x_list"
   ]
  },
  {
   "cell_type": "code",
   "execution_count": 17,
   "metadata": {},
   "outputs": [
    {
     "data": {
      "text/plain": [
       "[1, 2, 3, 8, 10, 12]"
      ]
     },
     "execution_count": 17,
     "metadata": {},
     "output_type": "execute_result"
    }
   ],
   "source": [
    "after_work = x_list.sort()\n",
    "x_list"
   ]
  },
  {
   "cell_type": "code",
   "execution_count": 20,
   "metadata": {},
   "outputs": [
    {
     "data": {
      "text/plain": [
       "[12, 10, 8, 3, 2, 1]"
      ]
     },
     "execution_count": 20,
     "metadata": {},
     "output_type": "execute_result"
    }
   ],
   "source": [
    "after_work = x_list.sort(reverse = True)\n",
    "x_list"
   ]
  },
  {
   "cell_type": "code",
   "execution_count": null,
   "metadata": {},
   "outputs": [],
   "source": []
  },
  {
   "cell_type": "code",
   "execution_count": null,
   "metadata": {},
   "outputs": [],
   "source": []
  },
  {
   "cell_type": "code",
   "execution_count": 6,
   "metadata": {},
   "outputs": [],
   "source": [
    "mystr = \"sometext\""
   ]
  },
  {
   "cell_type": "code",
   "execution_count": 7,
   "metadata": {},
   "outputs": [
    {
     "data": {
      "text/plain": [
       "str"
      ]
     },
     "execution_count": 7,
     "metadata": {},
     "output_type": "execute_result"
    }
   ],
   "source": [
    "type(mystr)"
   ]
  },
  {
   "cell_type": "code",
   "execution_count": null,
   "metadata": {},
   "outputs": [],
   "source": [
    "str.format"
   ]
  },
  {
   "cell_type": "code",
   "execution_count": 21,
   "metadata": {},
   "outputs": [],
   "source": [
    "myTuple = (2,4)"
   ]
  },
  {
   "cell_type": "code",
   "execution_count": 22,
   "metadata": {},
   "outputs": [
    {
     "data": {
      "text/plain": [
       "tuple"
      ]
     },
     "execution_count": 22,
     "metadata": {},
     "output_type": "execute_result"
    }
   ],
   "source": [
    "type(myTuple)"
   ]
  },
  {
   "cell_type": "code",
   "execution_count": null,
   "metadata": {},
   "outputs": [],
   "source": [
    "myTuple."
   ]
  },
  {
   "cell_type": "code",
   "execution_count": 23,
   "metadata": {},
   "outputs": [
    {
     "data": {
      "text/plain": [
       "dict"
      ]
     },
     "execution_count": 23,
     "metadata": {},
     "output_type": "execute_result"
    }
   ],
   "source": [
    "x_dict = {'student 1' :58, 'student 2': 59}\n",
    "type(x_dict)"
   ]
  },
  {
   "cell_type": "code",
   "execution_count": 27,
   "metadata": {},
   "outputs": [
    {
     "data": {
      "text/plain": [
       "{1, 2, 3, 'A'}"
      ]
     },
     "execution_count": 27,
     "metadata": {},
     "output_type": "execute_result"
    }
   ],
   "source": [
    "mySet = {'A',1,2,3,'A'}\n",
    "mySet\n"
   ]
  },
  {
   "cell_type": "code",
   "execution_count": 28,
   "metadata": {},
   "outputs": [
    {
     "data": {
      "text/plain": [
       "set"
      ]
     },
     "execution_count": 28,
     "metadata": {},
     "output_type": "execute_result"
    }
   ],
   "source": [
    "type(mySet)"
   ]
  },
  {
   "cell_type": "code",
   "execution_count": 29,
   "metadata": {},
   "outputs": [],
   "source": [
    "list_myset = list(mySet)"
   ]
  },
  {
   "cell_type": "code",
   "execution_count": 30,
   "metadata": {},
   "outputs": [
    {
     "data": {
      "text/plain": [
       "[3, 1, 2, 'A']"
      ]
     },
     "execution_count": 30,
     "metadata": {},
     "output_type": "execute_result"
    }
   ],
   "source": [
    "list_myset"
   ]
  },
  {
   "cell_type": "code",
   "execution_count": 31,
   "metadata": {},
   "outputs": [],
   "source": [
    "Convert_Dict = set(x_dict)"
   ]
  },
  {
   "cell_type": "code",
   "execution_count": 32,
   "metadata": {},
   "outputs": [
    {
     "data": {
      "text/plain": [
       "{'student 1', 'student 2'}"
      ]
     },
     "execution_count": 32,
     "metadata": {},
     "output_type": "execute_result"
    }
   ],
   "source": [
    "Convert_Dict"
   ]
  },
  {
   "cell_type": "code",
   "execution_count": 33,
   "metadata": {},
   "outputs": [
    {
     "name": "stdout",
     "output_type": "stream",
     "text": [
      "9\n",
      "25\n"
     ]
    }
   ],
   "source": [
    "result1 = 1 + 2\n",
    "result2 = 2 + 3\n",
    "\n",
    "result1_sqr = result1 * result1\n",
    "result2_sqr = result2 * result2\n",
    "\n",
    "print(result1_sqr)\n",
    "print(result2_sqr)"
   ]
  },
  {
   "cell_type": "code",
   "execution_count": 34,
   "metadata": {},
   "outputs": [],
   "source": [
    "def custom_function(x,y):\n",
    "    \"\"\" thsi function adds 2 numbers ad sqr the results\"\"\"\n",
    "    return (x + y) ** 2"
   ]
  },
  {
   "cell_type": "code",
   "execution_count": 35,
   "metadata": {},
   "outputs": [
    {
     "data": {
      "text/plain": [
       "9"
      ]
     },
     "execution_count": 35,
     "metadata": {},
     "output_type": "execute_result"
    }
   ],
   "source": [
    "custom_function(1,2)"
   ]
  },
  {
   "cell_type": "code",
   "execution_count": 36,
   "metadata": {},
   "outputs": [],
   "source": [
    "def custom_function(my_list):\n",
    "    \"\"\" thsi function average the sum of the list\n",
    "    \"\"\"\n",
    "    SUM = 0\n",
    "    for itm in my_list:\n",
    "        SUM = SUM + itm\n",
    "    AVG = SUM / len(my_list)\n",
    "    return AVG"
   ]
  },
  {
   "cell_type": "code",
   "execution_count": 39,
   "metadata": {},
   "outputs": [
    {
     "name": "stdout",
     "output_type": "stream",
     "text": [
      "3.0\n"
     ]
    }
   ],
   "source": [
    "myList = [1,2,3,4,5]\n",
    "print(custom_function(myList))"
   ]
  },
  {
   "cell_type": "code",
   "execution_count": 1,
   "metadata": {},
   "outputs": [
    {
     "name": "stdout",
     "output_type": "stream",
     "text": [
      "\u001b[34m$RECYCLE.BIN\u001b[m\u001b[m\r\n",
      "\u001b[31m03-ECO House small.pdf\u001b[m\u001b[m\r\n",
      "15172337qwn5.jpg\r\n",
      "2018 2hr CPD Sales and Property Management Pre-Reading.v1.4.pdf\r\n",
      "2018 9 Frederick J.pdf\r\n",
      "\u001b[34m201805 Followup expo\u001b[m\u001b[m\r\n",
      "\u001b[31m20180823 New tenancy agreement pg1-2.pdf\u001b[m\u001b[m\r\n",
      "A4 single.indd\r\n",
      "A4 single.pdf\r\n",
      "A4 single1.pdf\r\n",
      "Activities .docx\r\n",
      "Altessa _ Gordon.pdf\r\n",
      "Altrove @ Schofields location.pptx\r\n",
      "CDS_Account_Form_2017.pdf\r\n",
      "FILE LINK (Carmel).docx\r\n",
      "First File.ipynb\r\n",
      "MY SIGNATURE.jpg\r\n",
      "New Words.docx\r\n",
      "\u001b[34mPRP\u001b[m\u001b[m\r\n",
      "\u001b[34mProspect Owner Sales\u001b[m\u001b[m\r\n",
      "\u001b[31mReduce File Size(1).qfilter\u001b[m\u001b[m\r\n",
      "Referral Partner Agreement.xlsx\r\n",
      "Scan 1.psd\r\n",
      "Scan 1.tiff\r\n",
      "Scan 2.tiff\r\n",
      "Scan.tiff\r\n",
      "\u001b[31mScan2018-05-28_122559.pdf\u001b[m\u001b[m\r\n",
      "Screenshot 2018-09-26 20.04.35.png\r\n",
      "\u001b[34mSharefolder backup\u001b[m\u001b[m\r\n",
      "ShippingLabel.pdf\r\n",
      "Study-Tour-Itinerary-26-11-17.pdf\r\n",
      "Summer Elite 20181009 1.pdf\r\n",
      "Summer Elite 20181009 2.pdf\r\n",
      "Summer Elite 20181009.pdf\r\n",
      "Thumbs.db\r\n",
      "UNTITLED_9.Pdf.pdf\r\n",
      "Untitled-1.indd\r\n",
      "Workbook1.xlsx\r\n",
      "Workbook3.xlsx\r\n",
      "apartment north shore.docx\r\n",
      "apartment north shore.pdf\r\n",
      "\u001b[31mbrown-teddy-bear-on-brown-wooden-bench-outside-2.jpg\u001b[m\u001b[m\r\n",
      "brown-teddy3048.jpg\r\n",
      "chartoftheday_12386_the_most_common_new_year_s_resolutions_for_2018_n.jpg\r\n",
      "\u001b[31mcolor oo copy.key\u001b[m\u001b[m\r\n",
      "desktop.ini\r\n",
      "elara.jpg\r\n",
      "elaramaster.jpg\r\n",
      "letter accceptance.pdf\r\n",
      "logo black large(1).jpg\r\n",
      "map riverstone precinct .psd\r\n",
      "power.txt\r\n",
      "study tour english.indd\r\n",
      "\u001b[34muntitled folder\u001b[m\u001b[m\r\n",
      "\u001b[34muntitled folder 2\u001b[m\u001b[m\r\n",
      "workflow.xlsx\r\n",
      "~$Sale Advice & Tax Invoice & Receipt.xlsx\r\n",
      "~$Sale advice (Resale).xlsx\r\n",
      "免费注册 _ e-Property Platform.pdf\r\n"
     ]
    }
   ],
   "source": [
    "! ls"
   ]
  },
  {
   "cell_type": "markdown",
   "metadata": {},
   "source": [
    "# 8th December 2018"
   ]
  },
  {
   "cell_type": "code",
   "execution_count": 3,
   "metadata": {},
   "outputs": [
    {
     "name": "stdout",
     "output_type": "stream",
     "text": [
      "a 1.23\n",
      "a = 1.23\n",
      "b 4.567\n",
      "b = 4.567\n"
     ]
    }
   ],
   "source": [
    "dic = {'a' : 1.23, 'b' : 4.567}\n",
    "for i in dic:\n",
    "    print(i,dic[i])\n",
    "    print(\"{0:s} = {1}\".format(i,dic[i]))\n",
    "    "
   ]
  },
  {
   "cell_type": "markdown",
   "metadata": {},
   "source": [
    "## below 3 ways create a string data type"
   ]
  },
  {
   "cell_type": "code",
   "execution_count": 4,
   "metadata": {},
   "outputs": [
    {
     "data": {
      "text/plain": [
       "''"
      ]
     },
     "execution_count": 4,
     "metadata": {},
     "output_type": "execute_result"
    }
   ],
   "source": [
    "mystr = \"\"\n",
    "mystr = \"this is a string\"\n",
    "\"\".format()"
   ]
  },
  {
   "cell_type": "code",
   "execution_count": 9,
   "metadata": {},
   "outputs": [
    {
     "name": "stdout",
     "output_type": "stream",
     "text": [
      "Sammy ate 75.00 percent of a pizza in 2 days\n"
     ]
    }
   ],
   "source": [
    "print(\"Sammy ate {0:.2f} percent of a {1:s} in {2} days\".format(75,\"pizza\",2))"
   ]
  },
  {
   "cell_type": "code",
   "execution_count": 11,
   "metadata": {},
   "outputs": [
    {
     "name": "stdout",
     "output_type": "stream",
     "text": [
      "Sammy has      5red balloons         box\n"
     ]
    }
   ],
   "source": [
    "print(\"Sammy has {0:6}red {1:16} box\".format(5,\"balloons\"))"
   ]
  },
  {
   "cell_type": "code",
   "execution_count": null,
   "metadata": {},
   "outputs": [],
   "source": []
  },
  {
   "cell_type": "markdown",
   "metadata": {},
   "source": [
    "# 11 DEC 2018"
   ]
  },
  {
   "cell_type": "code",
   "execution_count": 29,
   "metadata": {},
   "outputs": [],
   "source": [
    "class Person:\n",
    "    def __init__(self, name, age):\n",
    "        self.name = name\n",
    "        self.age = age\n",
    "        \n",
    "    def say_hi(self):\n",
    "        print('Hello, my name is', self.name, 'MY AGE IS', self.age)\n",
    "    \n",
    "    def __del__(self):\n",
    "        print ('deleted')"
   ]
  },
  {
   "cell_type": "markdown",
   "metadata": {},
   "source": [
    "## class is a collection of functions\n",
    "## class define an attribute and get an action\n",
    "\n",
    "### contructor for the class  __init__  and can set some default for variable (name)\n",
    "\n",
    "### destructor  --> def __del__()\n"
   ]
  },
  {
   "cell_type": "code",
   "execution_count": 30,
   "metadata": {},
   "outputs": [
    {
     "name": "stdout",
     "output_type": "stream",
     "text": [
      "deleted\n"
     ]
    }
   ],
   "source": [
    "minh = Person('Minh', 20)"
   ]
  },
  {
   "cell_type": "code",
   "execution_count": 31,
   "metadata": {},
   "outputs": [
    {
     "data": {
      "text/plain": [
       "__main__.Person"
      ]
     },
     "execution_count": 31,
     "metadata": {},
     "output_type": "execute_result"
    }
   ],
   "source": [
    "type(minh)"
   ]
  },
  {
   "cell_type": "code",
   "execution_count": 32,
   "metadata": {},
   "outputs": [
    {
     "name": "stdout",
     "output_type": "stream",
     "text": [
      "Hello, my name is Minh MY AGE IS 20\n"
     ]
    }
   ],
   "source": [
    "minh.say_hi()"
   ]
  },
  {
   "cell_type": "code",
   "execution_count": 33,
   "metadata": {},
   "outputs": [
    {
     "name": "stdout",
     "output_type": "stream",
     "text": [
      "deleted\n"
     ]
    }
   ],
   "source": [
    "del(minh)"
   ]
  },
  {
   "cell_type": "code",
   "execution_count": null,
   "metadata": {},
   "outputs": [],
   "source": []
  }
 ],
 "metadata": {
  "kernelspec": {
   "display_name": "Python 3",
   "language": "python",
   "name": "python3"
  },
  "language_info": {
   "codemirror_mode": {
    "name": "ipython",
    "version": 3
   },
   "file_extension": ".py",
   "mimetype": "text/x-python",
   "name": "python",
   "nbconvert_exporter": "python",
   "pygments_lexer": "ipython3",
   "version": "3.7.0"
  }
 },
 "nbformat": 4,
 "nbformat_minor": 2
}
